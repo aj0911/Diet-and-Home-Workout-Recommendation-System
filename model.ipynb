{
 "cells": [
  {
   "cell_type": "markdown",
   "metadata": {},
   "source": [
    "0. Importing Modules"
   ]
  },
  {
   "cell_type": "code",
   "execution_count": 2,
   "metadata": {},
   "outputs": [],
   "source": [
    "import pandas as pd;\n",
    "import numpy as np;"
   ]
  },
  {
   "cell_type": "markdown",
   "metadata": {},
   "source": [
    "1. Data Selection"
   ]
  },
  {
   "cell_type": "code",
   "execution_count": 3,
   "metadata": {},
   "outputs": [
    {
     "name": "stdout",
     "output_type": "stream",
     "text": [
      "             Food_items  Breakfast  Lunch  Dinner VegNovVeg  Calories  Fats  \\\n",
      "0      Asparagus Cooked          0      1       1                  22   0.2   \n",
      "1              Avocados          1      0       0         0       160  15.0   \n",
      "2               Bananas          1      0       0         0        89   0.3   \n",
      "3  Bagels made in wheat          0      1       1         0       250   1.5   \n",
      "4               Berries          1      0       0         0       349   0.4   \n",
      "\n",
      "   Proteins  Iron  Calcium  Sodium  Potassium  Carbohydrates  Fibre  VitaminD  \\\n",
      "0       2.4  0.91     23.0      14      224.0            4.1    2.0         0   \n",
      "1       2.0  0.55     12.0       7      485.0            8.5    6.7         0   \n",
      "2       1.1  0.26      5.0       1      358.0           23.0    2.6         0   \n",
      "3      10.0  2.76     20.0     439      165.0           49.0    4.1         0   \n",
      "4      14.0  6.80    190.0     298       77.0           77.0   13.0         0   \n",
      "\n",
      "   Sugars  \n",
      "0     1.3  \n",
      "1     0.7  \n",
      "2    12.0  \n",
      "3     6.1  \n",
      "4    46.0  \n"
     ]
    }
   ],
   "source": [
    "data = pd.read_csv('input.csv')\n",
    "print(data.head());"
   ]
  },
  {
   "cell_type": "code",
   "execution_count": 4,
   "metadata": {},
   "outputs": [
    {
     "name": "stdout",
     "output_type": "stream",
     "text": [
      "breakfast_arr:  [0 1 1 0 1 0 0 0 1 1 1 0 1 1 1 0 1 0 1 0 1 0 0 0 0 0 0 0 0 0 0 0 1 1 1 1 1\n",
      " 0 1 1 1 0 1 1 0 1 1 1 1 1 0 1 1 1 1 1 0 0 1 0 0 0 1 1 1 1 0 0 0 0 0 0 0 0\n",
      " 0 0 1 0 0 0 1 1 1 0 0 0 0 1 0]\n",
      "lunch_arr:  [1 0 0 1 0 1 1 1 0 0 1 0 0 0 0 1 0 1 0 1 0 1 1 0 0 0 1 1 1 1 1 1 0 0 1 1 0\n",
      " 1 1 1 0 1 1 0 1 0 1 0 1 1 1 0 1 0 0 0 1 1 0 1 1 1 0 0 0 1 1 1 0 1 1 0 0 1\n",
      " 0 0 1 1 1 1 0 0 0 0 0 0 0 0 0]\n",
      "dinner_arr:  [1 0 0 1 0 1 1 1 0 0 1 1 0 1 0 1 0 1 0 1 0 1 1 1 1 1 1 1 1 1 1 1 1 1 1 1 0\n",
      " 1 1 1 0 1 1 0 1 0 1 0 0 1 1 0 1 0 0 0 1 1 0 1 1 1 0 0 0 0 1 1 1 1 1 1 1 1\n",
      " 1 1 1 1 1 1 0 0 1 1 1 1 1 0 1]\n"
     ]
    }
   ],
   "source": [
    "breakfast_data = data['Breakfast']\n",
    "breakfast_nparr = breakfast_data.to_numpy()\n",
    "print('breakfast_arr: ',breakfast_nparr);\n",
    "\n",
    "lunch_data = data['Lunch']\n",
    "lunch_nparr = lunch_data.to_numpy()\n",
    "print('lunch_arr: ',lunch_nparr);\n",
    "\n",
    "dinner_data = data['Dinner']\n",
    "dinner_nparr = dinner_data.to_numpy()\n",
    "print('dinner_arr: ',dinner_nparr);\n"
   ]
  },
  {
   "cell_type": "code",
   "execution_count": 5,
   "metadata": {},
   "outputs": [
    {
     "name": "stdout",
     "output_type": "stream",
     "text": [
      "0         Asparagus Cooked\n",
      "1                 Avocados\n",
      "2                  Bananas\n",
      "3     Bagels made in wheat\n",
      "4                  Berries\n",
      "              ...         \n",
      "84       Vanilla Ice cream\n",
      "85     Strawberry Icecream\n",
      "86            Marshmallows\n",
      "87          Chocolate milk\n",
      "88            Rice Pudding\n",
      "Name: Food_items, Length: 89, dtype: object\n"
     ]
    }
   ],
   "source": [
    "food_items_data = data['Food_items'];\n",
    "print(food_items_data);"
   ]
  },
  {
   "cell_type": "code",
   "execution_count": 6,
   "metadata": {},
   "outputs": [],
   "source": [
    "#food_seperated\n",
    "breakfast_food_separated=[]\n",
    "Lunch_food_separated=[]\n",
    "Dinner_food_separated=[]\n",
    "\n",
    "#food_seperated_id\n",
    "breakfast_food_separated_ID=[]\n",
    "Lunch_food_separated_ID=[]\n",
    "Dinner_food_separated_ID=[]"
   ]
  },
  {
   "cell_type": "markdown",
   "metadata": {},
   "source": [
    "Classification of all the data on the basis of breakfast, lunch and dinner"
   ]
  },
  {
   "cell_type": "code",
   "execution_count": 7,
   "metadata": {},
   "outputs": [
    {
     "name": "stdout",
     "output_type": "stream",
     "text": [
      "breakfast_food:  ['Avocados', 'Bananas', 'Berries', 'American cheese', 'Coffee', 'Corn', 'Grapes', 'Milk', 'Cashew Nuts', 'Orange', 'Pears', 'Protein Powder', 'Pop Corn - Caramel', 'Pop Corn', 'Dosa', 'Idli', 'Poha', 'Tomato', 'Yogurt', 'Brownie', 'Uttapam', 'Bhaji Pav', 'Almonds', 'Mushrooms', 'Egg Yolk cooked', 'Sweet Potatoes cooked', 'Boiled Potatoes', 'Orange juice', 'Greek yogurt plain', 'Oat Bran Cooked', 'Green Tea', 'Chia seeds', 'Cereals-Corn Flakes', 'Tea', 'Apples', 'Strawberries', 'Quninoa', 'Nachos', 'Beef sticks', 'Banana Chips', 'Honey', 'Chocolate milk']\n",
      "breakfast_food_id:  [1, 2, 4, 8, 9, 10, 12, 13, 14, 16, 18, 20, 32, 33, 34, 35, 36, 38, 39, 40, 42, 43, 45, 46, 47, 48, 49, 51, 52, 53, 54, 55, 58, 62, 63, 64, 65, 76, 80, 81, 82, 87]\n",
      "lunch_food:  ['Asparagus Cooked', 'Bagels made in wheat', 'Brocolli', 'Brown Rice', 'Cauliflower', 'Corn', 'Onions', 'Pasta canned with tomato sauce', 'Peas', 'Pumpkin', 'Tuna Salad', 'French Fries', 'Chicken Burger', 'Cheese Burger', 'Chicken Sandwich', 'Sugar Doughnuts', 'Chocolate Doughnuts', 'Dosa', 'Idli', 'Chappati', 'Tomato', 'Yogurt', 'Noodles', 'Uttapam', 'Dal Makhani', 'Mushrooms', 'Sweet Potatoes cooked', 'Boiled Potatoes', 'White Rice', 'Greek yogurt plain', 'Cottage cheese with vegetables', 'Salmon', 'Beans', 'Lentils', 'Pasta with corn homemade', 'Quninoa', 'Goat meat', 'Rabbit meat', 'Steak Fries', 'Mexican Rice', 'Macroni n Cheese ', 'Nachos', 'Chicken Popcorn', 'Turkey cooked', 'Oyster cooked']\n",
      "lunch_food_id:  [0, 3, 5, 6, 7, 10, 15, 17, 19, 21, 22, 26, 27, 28, 29, 30, 31, 34, 35, 37, 38, 39, 41, 42, 44, 46, 48, 49, 50, 52, 56, 57, 59, 60, 61, 65, 66, 67, 69, 70, 73, 76, 77, 78, 79]\n",
      "dinner_food:  ['Asparagus Cooked', 'Bagels made in wheat', 'Brocolli', 'Brown Rice', 'Cauliflower', 'Corn', 'Dark chocolates', 'Milk', 'Onions', 'Pasta canned with tomato sauce', 'Peas', 'Pumpkin', 'Tuna Salad', 'Tuna Fish', 'Peproni Pizza', 'Cheese Pizza', 'French Fries', 'Chicken Burger', 'Cheese Burger', 'Chicken Sandwich', 'Sugar Doughnuts', 'Chocolate Doughnuts', 'Pop Corn - Caramel', 'Pop Corn', 'Dosa', 'Idli', 'Chappati', 'Tomato', 'Yogurt', 'Noodles', 'Uttapam', 'Dal Makhani', 'Mushrooms', 'Boiled Potatoes', 'White Rice', 'Greek yogurt plain', 'Cottage cheese with vegetables', 'Salmon', 'Beans', 'Lentils', 'Pasta with corn homemade', 'Goat meat', 'Rabbit meat', 'Chicken Strips', 'Steak Fries', 'Mexican Rice', 'Fried Shrimp', 'Spaghetti and meatballs', 'Macroni n Cheese ', 'Pork cooked', 'Bacon cooked', 'Nachos', 'Chicken Popcorn', 'Turkey cooked', 'Oyster cooked', 'Honey', 'Chocolate Icecream', 'Vanilla Ice cream', 'Strawberry Icecream', 'Marshmallows', 'Rice Pudding']\n",
      "dinner_food_id:  [0, 3, 5, 6, 7, 10, 11, 13, 15, 17, 19, 21, 22, 23, 24, 25, 26, 27, 28, 29, 30, 31, 32, 33, 34, 35, 37, 38, 39, 41, 42, 44, 46, 49, 50, 52, 56, 57, 59, 60, 61, 66, 67, 68, 69, 70, 71, 72, 73, 74, 75, 76, 77, 78, 79, 82, 83, 84, 85, 86, 88]\n"
     ]
    }
   ],
   "source": [
    "for index in range(len(food_items_data)):\n",
    "    if breakfast_nparr[index]==1:\n",
    "        breakfast_food_separated.append(food_items_data[index]);\n",
    "        breakfast_food_separated_ID.append(index);\n",
    "    if lunch_nparr[index]==1:\n",
    "        Lunch_food_separated.append(food_items_data[index]);\n",
    "        Lunch_food_separated_ID.append(index);\n",
    "    if dinner_nparr[index]==1:\n",
    "        Dinner_food_separated.append(food_items_data[index]);\n",
    "        Dinner_food_separated_ID.append(index);\n",
    "\n",
    "print('breakfast_food: ',breakfast_food_separated);\n",
    "print('breakfast_food_id: ',breakfast_food_separated_ID);\n",
    "print('lunch_food: ',Lunch_food_separated);\n",
    "print('lunch_food_id: ',Lunch_food_separated_ID);\n",
    "print('dinner_food: ',Dinner_food_separated);\n",
    "print('dinner_food_id: ',Dinner_food_separated_ID);"
   ]
  },
  {
   "cell_type": "code",
   "execution_count": 8,
   "metadata": {},
   "outputs": [
    {
     "name": "stdout",
     "output_type": "stream",
     "text": [
      "[['Avocados' '0' 160 15.0 2.0 0.55 12.0 7 485.0 8.5 6.7 0 0.7]\n",
      " ['Bananas' '0' 89 0.3 1.1 0.26 5.0 1 358.0 23.0 2.6 0 12.0]\n",
      " ['Berries' '0' 349 0.4 14.0 6.8 190.0 298 77.0 77.0 13.0 0 46.0]\n",
      " ['American cheese' '0' 331 24.0 20.0 0.84 497.0 966 363.0 8.3 0.0 0 0.0]\n",
      " ['Coffee' '0' 2 0.0 0.3 0.02 2.0 1 50.0 0.2 0.0 0 0.0]\n",
      " ['Corn' '0' 97 1.4 3.3 0.55 2.0 253 3.3 22.0 2.7 0 7.7]\n",
      " ['Grapes' '0' 93 2.1 5.6 2.63 363.0 9 272.0 17.0 11.0 0 6.3]\n",
      " ['Milk' '0' 97 6.9 3.8 0.12 169.0 52 178.0 5.2 0.0 0 0.0]\n",
      " ['Cashew Nuts' '0' 553 44.0 18.0 6.68 37.0 12 660.0 30.0 3.3 0 5.9]\n",
      " ['Orange' '0' 97 0.2 1.5 0.8 161.0 3 212.0 25.0 11.0 0 0.0]\n",
      " ['Pears' '0' 57 0.1 0.4 0.18 9.0 1 116.0 15.0 3.1 0 9.8]\n",
      " ['Protein Powder' '0' 411 17.0 46.0 8.57 500.0 329 1129.0 19.0 7.1 200\n",
      "  5.7]\n",
      " ['Pop Corn - Caramel' '0' 381 1.4 2.0 0.8 18.0 286 110.0 90.0 2.5 0 65.0]\n",
      " ['Pop Corn' '0' 429 9.5 13.0 2.28 11.0 490 241.0 73.0 14.0 0 0.5]\n",
      " ['Dosa' '0' 168 3.7 4.5 8.0 0.7 94 76.0 29.0 0.9 0 0.1]\n",
      " ['Idli' '0' 156 1.7 5.0 17.2 4.0 207 63.0 30.2 2.1 0 0.74]\n",
      " ['Poha' '0' 130 1.5 2.6 3.16 1.0 201 117.0 26.9 1.1 0 0.5]\n",
      " ['Tomato' '0' 16 0.2 1.2 0.47 5.0 42 212.0 3.2 0.9 0 2.63]\n",
      " ['Yogurt' '0' 60 4.0 3.1 0.08 183.0 70 234.0 7.0 0.0 1 7.0]\n",
      " ['Brownie' '0' 407 6.2 4.4 3.81 17.0 457 51.0 84.0 2.9 0 55.0]\n",
      " ['Uttapam' '0' 188 7.2 4.4 24.0 6.4 522 91.0 26.4 2.2 0 0.24]\n",
      " ['Bhaji Pav' '0' 151 2.4 9.0 37.4 3.4 438 180.0 29.3 1.0 0 1.35]\n",
      " ['Almonds' '0' 579 50.0 21.0 3.71 269.0 1 733.0 22.0 13.0 0 4.4]\n",
      " ['Mushrooms' '0' 22 0.3 3.1 0.5 3.0 5 318.0 3.3 1.0 7 2.0]\n",
      " ['Egg Yolk cooked' '1' 196 15.0 14.0 1.89 62.0 207 152.0 0.8 0.0 88 0.4]\n",
      " ['Sweet Potatoes cooked' '0' 76 0.1 1.4 0.72 27.0 27 230.0 18.0 2.5 0\n",
      "  5.7]\n",
      " ['Boiled Potatoes' '0' 87 0.1 1.9 0.31 5.0 240 379.0 20.0 2.0 0 0.9]\n",
      " ['Orange juice' '0' 45 0.2 0.7 0.2 11.0 1 200.0 10.0 0.2 0 8.4]\n",
      " ['Greek yogurt plain' '0' 73 1.9 10.0 0.04 115.0 34 141.0 3.9 0.0 0 3.6]\n",
      " ['Oat Bran Cooked' '0' 40 0.9 3.2 0.88 10.0 1 92.0 11.0 2.6 0 0.0]\n",
      " ['Green Tea' '0' 1 0.0 0.2 0.02 0.0 1 0.2 0.0 0.0 0 0.0]\n",
      " ['Chia seeds' '0' 486 31.0 17.0 7.72 631.0 16 407.0 42.0 34.0 0 0.0]\n",
      " ['Cereals-Corn Flakes' '0' 384 0.9 5.9 19.4 2.0 571 107.0 88.0 2.7 286\n",
      "  7.8]\n",
      " ['Tea' '0' 1 0.0 0.0 0.08 2.0 1 9.0 0.2 0.0 0 0.0]\n",
      " ['Apples' '0' 52 0.2 0.3 0.12 6.0 1 107.0 14.0 24.0 0 10.0]\n",
      " ['Strawberries' '0' 32 0.3 0.7 0.41 16.0 1 153.0 7.7 2.0 0 4.9]\n",
      " ['Quninoa' '0' 120 1.9 4.4 1.49 17.0 7 172.0 21.0 2.8 0 0.9]\n",
      " ['Nachos' '0' 350 22.0 4.3 0.75 63.0 313 362.0 35.0 3.2 0 2.2]\n",
      " ['Beef sticks' '1' 550 50.0 22.0 3.4 68.0 1531 257.0 5.4 0.0 0 0.0]\n",
      " ['Banana Chips' '0' 519 34.0 2.3 1.25 18.0 6 536.0 58.0 7.7 0 35.0]\n",
      " ['Honey' '0' 304 0.0 0.3 0.42 6.0 4 52.0 82.0 0.2 0 82.0]\n",
      " ['Chocolate milk' '0' 535 30.0 7.7 2.35 189.0 79 372.0 59.0 3.4 0 52.0]]\n"
     ]
    }
   ],
   "source": [
    "Breakfast_food_separated_ID_data = data.iloc[breakfast_food_separated_ID].T.iloc[[0] + [4] + list(np.arange(5,16))].T.to_numpy();\n",
    "print(Breakfast_food_separated_ID_data);"
   ]
  },
  {
   "cell_type": "code",
   "execution_count": 9,
   "metadata": {},
   "outputs": [
    {
     "name": "stdout",
     "output_type": "stream",
     "text": [
      "[['Asparagus Cooked' ' ' 22 0.2 2.4 0.91 23.0 14 224.0 4.1 2.0 0 1.3]\n",
      " ['Bagels made in wheat' '0' 250 1.5 10.0 2.76 20.0 439 165.0 49.0 4.1 0\n",
      "  6.1]\n",
      " ['Brocolli' '0' 25 0.5 3.8 1.27 118.0 56 343.0 3.1 2.8 0 0.6]\n",
      " ['Brown Rice' '0' 362 2.7 7.5 1.8 33.0 4 268.0 76.0 3.4 0 0.0]\n",
      " ['Cauliflower' '0' 32 0.3 3.0 0.72 32.0 259 278.0 6.3 3.3 0 0.0]\n",
      " ['Corn' '0' 97 1.4 3.3 0.55 2.0 253 3.3 22.0 2.7 0 7.7]\n",
      " ['Onions' '0' 40 0.1 1.1 0.21 23.0 4 146.0 9.3 1.7 0 4.2]\n",
      " ['Pasta canned with tomato sauce' '0' 71 0.7 2.2 0.91 13.0 381 192.0\n",
      "  14.0 0.9 0 4.0]\n",
      " ['Peas' '0' 81 0.4 5.4 1.47 25.0 5 244.0 14.0 5.7 0 5.7]\n",
      " ['Pumpkin' '0' 18 0.1 0.7 0.57 15.0 237 230.0 4.3 1.1 0 2.1]\n",
      " ['Tuna Salad' '1' 187 9.3 16.0 1.0 17.0 402 178.0 9.4 0.0 0 0.0]\n",
      " ['French Fries' '0' 289 14.0 3.5 0.91 17.0 357 545.0 37.0 3.9 0 0.3]\n",
      " ['Chicken Burger' '1' 292 15.0 18.0 0.62 13.0 859 315.0 20.0 1.3 0 0.0]\n",
      " ['Cheese Burger' '0' 256 12.0 13.0 2.78 92.0 660 178.0 25.0 1.4 0 0.0]\n",
      " ['Chicken Sandwich' '1' 257 12.0 15.0 1.32 92.0 605 256.0 23.0 1.2 0 5.0]\n",
      " ['Sugar Doughnuts' '0' 426 23.0 5.2 1.06 60.0 402 102.0 51.0 1.5 0 32.0]\n",
      " ['Chocolate Doughnuts' '0' 452 25.0 4.9 4.0 24.0 326 201.0 51.0 1.9 0\n",
      "  27.0]\n",
      " ['Dosa' '0' 168 3.7 4.5 8.0 0.7 94 76.0 29.0 0.9 0 0.1]\n",
      " ['Idli' '0' 156 1.7 5.0 17.2 4.0 207 63.0 30.2 2.1 0 0.74]\n",
      " ['Chappati' '0' 297 7.5 11.0 3.01 93.0 409 266.0 46.0 4.9 0 2.7]\n",
      " ['Tomato' '0' 16 0.2 1.2 0.47 5.0 42 212.0 3.2 0.9 0 2.63]\n",
      " ['Yogurt' '0' 60 4.0 3.1 0.08 183.0 70 234.0 7.0 0.0 1 7.0]\n",
      " ['Noodles' '0' 108 0.2 1.8 0.14 4.0 19 4.0 24.0 1.0 0 0.0]\n",
      " ['Uttapam' '0' 188 7.2 4.4 24.0 6.4 522 91.0 26.4 2.2 0 0.24]\n",
      " ['Dal Makhani' '0' 109 8.5 2.1 35.2 8.3 243 366.0 6.3 1.5 0 3.29]\n",
      " ['Mushrooms' '0' 22 0.3 3.1 0.5 3.0 5 318.0 3.3 1.0 7 2.0]\n",
      " ['Sweet Potatoes cooked' '0' 76 0.1 1.4 0.72 27.0 27 230.0 18.0 2.5 0\n",
      "  5.7]\n",
      " ['Boiled Potatoes' '0' 87 0.1 1.9 0.31 5.0 240 379.0 20.0 2.0 0 0.9]\n",
      " ['White Rice' '0' 360 0.6 6.6 4.36 9.0 1 86.0 79.0 1.4 0 0.0]\n",
      " ['Greek yogurt plain' '0' 73 1.9 10.0 0.04 115.0 34 141.0 3.9 0.0 0 3.6]\n",
      " ['Cottage cheese with vegetables' '0' 95 4.2 11.0 0.1 56.0 403 86.0 3.0\n",
      "  0.1 0 0.4]\n",
      " ['Salmon' '1' 127 4.4 21.0 0.38 7.0 75 366.0 0.0 0.0 435 0.0]\n",
      " ['Beans' '0' 31 0.2 1.8 1.03 37.0 6 211.0 7.0 2.7 0 3.3]\n",
      " ['Lentils' '0' 101 0.5 8.8 3.1 14.0 246 284.0 21.0 0.0 0 0.0]\n",
      " ['Pasta with corn homemade' '0' 126 0.7 2.6 0.25 1.0 0 31.0 28.0 4.8 0\n",
      "  0.0]\n",
      " ['Quninoa' '0' 120 1.9 4.4 1.49 17.0 7 172.0 21.0 2.8 0 0.9]\n",
      " ['Goat meat' '1' 109 2.3 21.0 2.83 13.0 82 385.0 57.0 0.0 0 0.0]\n",
      " ['Rabbit meat' '1' 114 2.3 22.0 3.2 12.0 50 378.0 0.0 0.0 0 0.0]\n",
      " ['Steak Fries' '1' 255 13.0 3.3 0.69 19.0 43 551.0 31.0 3.5 0 0.9]\n",
      " ['Mexican Rice' '0' 195 4.9 3.6 1.18 39.0 677 131.0 34.0 1.1 0 1.4]\n",
      " ['Macroni n Cheese ' '0' 194 12.0 6.5 57.0 145.0 375 127.0 16.0 1.1 0\n",
      "  2.8]\n",
      " ['Nachos' '0' 350 22.0 4.3 0.75 63.0 313 362.0 35.0 3.2 0 2.2]\n",
      " ['Chicken Popcorn' '1' 351 22.0 18.0 1.42 32.0 1140 288.0 21.0 1.0 0 0.0]\n",
      " ['Turkey cooked' '1' 203 10.0 27.0 1.52 28.0 78 294.0 0.0 0.0 8 0.0]\n",
      " ['Oyster cooked' '1' 159 4.0 29.0 4.9 6.0 81 409.0 0.0 0.0 0 0.0]]\n"
     ]
    }
   ],
   "source": [
    "Lunch_food_separated_ID_data = data.iloc[Lunch_food_separated_ID].T.iloc[[0] + [4] + list(np.arange(5,16))].T.to_numpy();\n",
    "print(Lunch_food_separated_ID_data);"
   ]
  },
  {
   "cell_type": "code",
   "execution_count": 10,
   "metadata": {},
   "outputs": [
    {
     "name": "stdout",
     "output_type": "stream",
     "text": [
      "[['Asparagus Cooked' ' ' 22 0.2 2.4 0.91 23.0 14 224.0 4.1 2.0 0 1.3]\n",
      " ['Bagels made in wheat' '0' 250 1.5 10.0 2.76 20.0 439 165.0 49.0 4.1 0\n",
      "  6.1]\n",
      " ['Brocolli' '0' 25 0.5 3.8 1.27 118.0 56 343.0 3.1 2.8 0 0.6]\n",
      " ['Brown Rice' '0' 362 2.7 7.5 1.8 33.0 4 268.0 76.0 3.4 0 0.0]\n",
      " ['Cauliflower' '0' 32 0.3 3.0 0.72 32.0 259 278.0 6.3 3.3 0 0.0]\n",
      " ['Corn' '0' 97 1.4 3.3 0.55 2.0 253 3.3 22.0 2.7 0 7.7]\n",
      " ['Dark chocolates' '0' 556 32.0 5.5 2.13 30.0 6 502.0 60.0 6.5 0 48.0]\n",
      " ['Milk' '0' 97 6.9 3.8 0.12 169.0 52 178.0 5.2 0.0 0 0.0]\n",
      " ['Onions' '0' 40 0.1 1.1 0.21 23.0 4 146.0 9.3 1.7 0 4.2]\n",
      " ['Pasta canned with tomato sauce' '0' 71 0.7 2.2 0.91 13.0 381 192.0\n",
      "  14.0 0.9 0 4.0]\n",
      " ['Peas' '0' 81 0.4 5.4 1.47 25.0 5 244.0 14.0 5.7 0 5.7]\n",
      " ['Pumpkin' '0' 18 0.1 0.7 0.57 15.0 237 230.0 4.3 1.1 0 2.1]\n",
      " ['Tuna Salad' '1' 187 9.3 16.0 1.0 17.0 402 178.0 9.4 0.0 0 0.0]\n",
      " ['Tuna Fish' '1' 184 6.3 30.0 1.31 10.0 50 323.0 0.0 0.0 0 0.0]\n",
      " ['Peproni Pizza' '0' 298 14.0 12.0 2.14 146.0 692 199.0 30.0 1.8 0 3.2]\n",
      " ['Cheese Pizza' '0' 276 11.0 11.0 2.47 192.0 580 170.0 33.0 2.1 0 2.5]\n",
      " ['French Fries' '0' 289 14.0 3.5 0.91 17.0 357 545.0 37.0 3.9 0 0.3]\n",
      " ['Chicken Burger' '1' 292 15.0 18.0 0.62 13.0 859 315.0 20.0 1.3 0 0.0]\n",
      " ['Cheese Burger' '0' 256 12.0 13.0 2.78 92.0 660 178.0 25.0 1.4 0 0.0]\n",
      " ['Chicken Sandwich' '1' 257 12.0 15.0 1.32 92.0 605 256.0 23.0 1.2 0 5.0]\n",
      " ['Sugar Doughnuts' '0' 426 23.0 5.2 1.06 60.0 402 102.0 51.0 1.5 0 32.0]\n",
      " ['Chocolate Doughnuts' '0' 452 25.0 4.9 4.0 24.0 326 201.0 51.0 1.9 0\n",
      "  27.0]\n",
      " ['Pop Corn - Caramel' '0' 381 1.4 2.0 0.8 18.0 286 110.0 90.0 2.5 0 65.0]\n",
      " ['Pop Corn' '0' 429 9.5 13.0 2.28 11.0 490 241.0 73.0 14.0 0 0.5]\n",
      " ['Dosa' '0' 168 3.7 4.5 8.0 0.7 94 76.0 29.0 0.9 0 0.1]\n",
      " ['Idli' '0' 156 1.7 5.0 17.2 4.0 207 63.0 30.2 2.1 0 0.74]\n",
      " ['Chappati' '0' 297 7.5 11.0 3.01 93.0 409 266.0 46.0 4.9 0 2.7]\n",
      " ['Tomato' '0' 16 0.2 1.2 0.47 5.0 42 212.0 3.2 0.9 0 2.63]\n",
      " ['Yogurt' '0' 60 4.0 3.1 0.08 183.0 70 234.0 7.0 0.0 1 7.0]\n",
      " ['Noodles' '0' 108 0.2 1.8 0.14 4.0 19 4.0 24.0 1.0 0 0.0]\n",
      " ['Uttapam' '0' 188 7.2 4.4 24.0 6.4 522 91.0 26.4 2.2 0 0.24]\n",
      " ['Dal Makhani' '0' 109 8.5 2.1 35.2 8.3 243 366.0 6.3 1.5 0 3.29]\n",
      " ['Mushrooms' '0' 22 0.3 3.1 0.5 3.0 5 318.0 3.3 1.0 7 2.0]\n",
      " ['Boiled Potatoes' '0' 87 0.1 1.9 0.31 5.0 240 379.0 20.0 2.0 0 0.9]\n",
      " ['White Rice' '0' 360 0.6 6.6 4.36 9.0 1 86.0 79.0 1.4 0 0.0]\n",
      " ['Greek yogurt plain' '0' 73 1.9 10.0 0.04 115.0 34 141.0 3.9 0.0 0 3.6]\n",
      " ['Cottage cheese with vegetables' '0' 95 4.2 11.0 0.1 56.0 403 86.0 3.0\n",
      "  0.1 0 0.4]\n",
      " ['Salmon' '1' 127 4.4 21.0 0.38 7.0 75 366.0 0.0 0.0 435 0.0]\n",
      " ['Beans' '0' 31 0.2 1.8 1.03 37.0 6 211.0 7.0 2.7 0 3.3]\n",
      " ['Lentils' '0' 101 0.5 8.8 3.1 14.0 246 284.0 21.0 0.0 0 0.0]\n",
      " ['Pasta with corn homemade' '0' 126 0.7 2.6 0.25 1.0 0 31.0 28.0 4.8 0\n",
      "  0.0]\n",
      " ['Goat meat' '1' 109 2.3 21.0 2.83 13.0 82 385.0 57.0 0.0 0 0.0]\n",
      " ['Rabbit meat' '1' 114 2.3 22.0 3.2 12.0 50 378.0 0.0 0.0 0 0.0]\n",
      " ['Chicken Strips' '1' 295 15.0 19.0 0.72 11.0 798 334.0 22.0 1.1 0 0.3]\n",
      " ['Steak Fries' '1' 255 13.0 3.3 0.69 19.0 43 551.0 31.0 3.5 0 0.9]\n",
      " ['Mexican Rice' '0' 195 4.9 3.6 1.18 39.0 677 131.0 34.0 1.1 0 1.4]\n",
      " ['Fried Shrimp' '1' 319 20.0 14.0 1.54 47.0 1400 128.0 21.0 1.5 0 0.8]\n",
      " ['Spaghetti and meatballs' '1' 170 8.5 7.8 1.29 45.0 351 206.0 16.0 1.5\n",
      "  0 2.0]\n",
      " ['Macroni n Cheese ' '0' 194 12.0 6.5 57.0 145.0 375 127.0 16.0 1.1 0\n",
      "  2.8]\n",
      " ['Pork cooked' '1' 297 21.0 26.0 1.29 22.0 73 362.0 0.0 0.0 0 0.0]\n",
      " ['Bacon cooked' '1' 146 2.8 28.0 0.56 7.0 993 999.0 1.8 0.0 0 1.2]\n",
      " ['Nachos' '0' 350 22.0 4.3 0.75 63.0 313 362.0 35.0 3.2 0 2.2]\n",
      " ['Chicken Popcorn' '1' 351 22.0 18.0 1.42 32.0 1140 288.0 21.0 1.0 0 0.0]\n",
      " ['Turkey cooked' '1' 203 10.0 27.0 1.52 28.0 78 294.0 0.0 0.0 8 0.0]\n",
      " ['Oyster cooked' '1' 159 4.0 29.0 4.9 6.0 81 409.0 0.0 0.0 0 0.0]\n",
      " ['Honey' '0' 304 0.0 0.3 0.42 6.0 4 52.0 82.0 0.2 0 82.0]\n",
      " ['Chocolate Icecream' '0' 216 11.0 3.8 0.93 109.0 76 249.0 28.0 1.2 0\n",
      "  25.0]\n",
      " ['Vanilla Ice cream' '0' 207 11.0 3.5 0.09 128.0 80 199.0 24.0 0.7 0\n",
      "  21.0]\n",
      " ['Strawberry Icecream' '0' 192 8.4 3.2 0.21 120.0 60 188.0 28.0 0.9 0\n",
      "  0.0]\n",
      " ['Marshmallows' '0' 318 0.2 1.8 0.23 3.0 80 5.0 81.0 0.1 0 58.0]\n",
      " ['Rice Pudding' '0' 376 0.1 2.7 1.79 14.0 366 5.0 91.0 0.7 0 0.0]]\n"
     ]
    }
   ],
   "source": [
    "Dinner_food_separated_ID_data = data.iloc[Dinner_food_separated_ID].T.iloc[[0] + [4] + list(np.arange(5,16))].T.to_numpy();\n",
    "print(Dinner_food_separated_ID_data);"
   ]
  },
  {
   "cell_type": "code",
   "execution_count": 11,
   "metadata": {},
   "outputs": [
    {
     "name": "stdout",
     "output_type": "stream",
     "text": [
      "age is between 0 20\n",
      "Your body mass index is:  22.59814049586777\n",
      "Healthy\n"
     ]
    }
   ],
   "source": [
    "age=19\n",
    "weight=70\n",
    "height=1.76\n",
    "bmi = weight/(height**2) \n",
    "\n",
    "for lp in range (0,80,20):\n",
    "    test_list=np.arange(lp,lp+20)\n",
    "    for i in test_list: \n",
    "        if(i == age):\n",
    "            print('age is between',str(lp),str(lp+20))\n",
    "            agecl=round(lp/20)    \n",
    "\n",
    "print(\"Your body mass index is: \", bmi)\n",
    "if ( bmi < 16):\n",
    "    print(\"severely underweight\")\n",
    "    clbmi=4\n",
    "elif ( bmi >= 16 and bmi < 18.5):\n",
    "    print(\"underweight\")\n",
    "    clbmi=3\n",
    "elif ( bmi >= 18.5 and bmi < 25):\n",
    "    print(\"Healthy\")\n",
    "    clbmi=2\n",
    "elif ( bmi >= 25 and bmi < 30):\n",
    "    print(\"overweight\")\n",
    "    clbmi=1\n",
    "elif ( bmi >=30):\n",
    "    print(\"severely overweight\")\n",
    "    clbmi=0\n",
    "\n",
    "ti=(clbmi+agecl)/2;"
   ]
  },
  {
   "cell_type": "markdown",
   "metadata": {},
   "source": [
    "K-Means Based  Dinner Food"
   ]
  },
  {
   "cell_type": "code",
   "execution_count": 12,
   "metadata": {},
   "outputs": [
    {
     "name": "stdout",
     "output_type": "stream",
     "text": [
      "[['0' 250 1.5 10.0 2.76 20.0 439 165.0 49.0 4.1 0 6.1]\n",
      " ['0' 25 0.5 3.8 1.27 118.0 56 343.0 3.1 2.8 0 0.6]\n",
      " ['0' 362 2.7 7.5 1.8 33.0 4 268.0 76.0 3.4 0 0.0]\n",
      " ['0' 32 0.3 3.0 0.72 32.0 259 278.0 6.3 3.3 0 0.0]\n",
      " ['0' 97 1.4 3.3 0.55 2.0 253 3.3 22.0 2.7 0 7.7]\n",
      " ['0' 556 32.0 5.5 2.13 30.0 6 502.0 60.0 6.5 0 48.0]\n",
      " ['0' 97 6.9 3.8 0.12 169.0 52 178.0 5.2 0.0 0 0.0]\n",
      " ['0' 40 0.1 1.1 0.21 23.0 4 146.0 9.3 1.7 0 4.2]\n",
      " ['0' 71 0.7 2.2 0.91 13.0 381 192.0 14.0 0.9 0 4.0]\n",
      " ['0' 81 0.4 5.4 1.47 25.0 5 244.0 14.0 5.7 0 5.7]\n",
      " ['0' 18 0.1 0.7 0.57 15.0 237 230.0 4.3 1.1 0 2.1]\n",
      " ['1' 187 9.3 16.0 1.0 17.0 402 178.0 9.4 0.0 0 0.0]\n",
      " ['1' 184 6.3 30.0 1.31 10.0 50 323.0 0.0 0.0 0 0.0]\n",
      " ['0' 298 14.0 12.0 2.14 146.0 692 199.0 30.0 1.8 0 3.2]\n",
      " ['0' 276 11.0 11.0 2.47 192.0 580 170.0 33.0 2.1 0 2.5]\n",
      " ['0' 289 14.0 3.5 0.91 17.0 357 545.0 37.0 3.9 0 0.3]\n",
      " ['1' 292 15.0 18.0 0.62 13.0 859 315.0 20.0 1.3 0 0.0]\n",
      " ['0' 256 12.0 13.0 2.78 92.0 660 178.0 25.0 1.4 0 0.0]\n",
      " ['1' 257 12.0 15.0 1.32 92.0 605 256.0 23.0 1.2 0 5.0]\n",
      " ['0' 426 23.0 5.2 1.06 60.0 402 102.0 51.0 1.5 0 32.0]\n",
      " ['0' 452 25.0 4.9 4.0 24.0 326 201.0 51.0 1.9 0 27.0]\n",
      " ['0' 381 1.4 2.0 0.8 18.0 286 110.0 90.0 2.5 0 65.0]\n",
      " ['0' 429 9.5 13.0 2.28 11.0 490 241.0 73.0 14.0 0 0.5]\n",
      " ['0' 168 3.7 4.5 8.0 0.7 94 76.0 29.0 0.9 0 0.1]\n",
      " ['0' 156 1.7 5.0 17.2 4.0 207 63.0 30.2 2.1 0 0.74]\n",
      " ['0' 297 7.5 11.0 3.01 93.0 409 266.0 46.0 4.9 0 2.7]\n",
      " ['0' 16 0.2 1.2 0.47 5.0 42 212.0 3.2 0.9 0 2.63]\n",
      " ['0' 60 4.0 3.1 0.08 183.0 70 234.0 7.0 0.0 1 7.0]\n",
      " ['0' 108 0.2 1.8 0.14 4.0 19 4.0 24.0 1.0 0 0.0]\n",
      " ['0' 188 7.2 4.4 24.0 6.4 522 91.0 26.4 2.2 0 0.24]\n",
      " ['0' 109 8.5 2.1 35.2 8.3 243 366.0 6.3 1.5 0 3.29]\n",
      " ['0' 22 0.3 3.1 0.5 3.0 5 318.0 3.3 1.0 7 2.0]\n",
      " ['0' 87 0.1 1.9 0.31 5.0 240 379.0 20.0 2.0 0 0.9]\n",
      " ['0' 360 0.6 6.6 4.36 9.0 1 86.0 79.0 1.4 0 0.0]\n",
      " ['0' 73 1.9 10.0 0.04 115.0 34 141.0 3.9 0.0 0 3.6]\n",
      " ['0' 95 4.2 11.0 0.1 56.0 403 86.0 3.0 0.1 0 0.4]\n",
      " ['1' 127 4.4 21.0 0.38 7.0 75 366.0 0.0 0.0 435 0.0]\n",
      " ['0' 31 0.2 1.8 1.03 37.0 6 211.0 7.0 2.7 0 3.3]\n",
      " ['0' 101 0.5 8.8 3.1 14.0 246 284.0 21.0 0.0 0 0.0]\n",
      " ['0' 126 0.7 2.6 0.25 1.0 0 31.0 28.0 4.8 0 0.0]\n",
      " ['1' 109 2.3 21.0 2.83 13.0 82 385.0 57.0 0.0 0 0.0]\n",
      " ['1' 114 2.3 22.0 3.2 12.0 50 378.0 0.0 0.0 0 0.0]\n",
      " ['1' 295 15.0 19.0 0.72 11.0 798 334.0 22.0 1.1 0 0.3]\n",
      " ['1' 255 13.0 3.3 0.69 19.0 43 551.0 31.0 3.5 0 0.9]\n",
      " ['0' 195 4.9 3.6 1.18 39.0 677 131.0 34.0 1.1 0 1.4]\n",
      " ['1' 319 20.0 14.0 1.54 47.0 1400 128.0 21.0 1.5 0 0.8]\n",
      " ['1' 170 8.5 7.8 1.29 45.0 351 206.0 16.0 1.5 0 2.0]\n",
      " ['0' 194 12.0 6.5 57.0 145.0 375 127.0 16.0 1.1 0 2.8]\n",
      " ['1' 297 21.0 26.0 1.29 22.0 73 362.0 0.0 0.0 0 0.0]\n",
      " ['1' 146 2.8 28.0 0.56 7.0 993 999.0 1.8 0.0 0 1.2]\n",
      " ['0' 350 22.0 4.3 0.75 63.0 313 362.0 35.0 3.2 0 2.2]\n",
      " ['1' 351 22.0 18.0 1.42 32.0 1140 288.0 21.0 1.0 0 0.0]\n",
      " ['1' 203 10.0 27.0 1.52 28.0 78 294.0 0.0 0.0 8 0.0]\n",
      " ['1' 159 4.0 29.0 4.9 6.0 81 409.0 0.0 0.0 0 0.0]\n",
      " ['0' 304 0.0 0.3 0.42 6.0 4 52.0 82.0 0.2 0 82.0]\n",
      " ['0' 216 11.0 3.8 0.93 109.0 76 249.0 28.0 1.2 0 25.0]\n",
      " ['0' 207 11.0 3.5 0.09 128.0 80 199.0 24.0 0.7 0 21.0]\n",
      " ['0' 192 8.4 3.2 0.21 120.0 60 188.0 28.0 0.9 0 0.0]\n",
      " ['0' 318 0.2 1.8 0.23 3.0 80 5.0 81.0 0.1 0 58.0]\n",
      " ['0' 376 0.1 2.7 1.79 14.0 366 5.0 91.0 0.7 0 0.0]]\n"
     ]
    }
   ],
   "source": [
    "Data_calorie=Dinner_food_separated_ID_data[1:,1:len(Dinner_food_separated_ID_data)]\n",
    "X = np.array(Data_calorie);\n",
    "print(X)"
   ]
  },
  {
   "cell_type": "code",
   "execution_count": 13,
   "metadata": {},
   "outputs": [],
   "source": [
    "from sklearn.cluster import KMeans\n",
    "\n",
    "kmeans = KMeans(n_clusters=3, random_state=0).fit(X)\n",
    "X_Value=np.arange(0,len(kmeans.labels_))\n",
    "dnr_lbl=kmeans.labels_"
   ]
  },
  {
   "cell_type": "markdown",
   "metadata": {},
   "source": [
    "K Means Based Lunch Food"
   ]
  },
  {
   "cell_type": "code",
   "execution_count": 14,
   "metadata": {},
   "outputs": [],
   "source": [
    "Data_calorie=Lunch_food_separated_ID_data[1:,1:len(Lunch_food_separated_ID_data)]\n",
    "X = np.array(Data_calorie);\n",
    "kmeans = KMeans(n_clusters=3, random_state=0).fit(X)\n",
    "X_Value=np.arange(0,len(kmeans.labels_))\n",
    "lun_lbl=kmeans.labels_"
   ]
  },
  {
   "cell_type": "markdown",
   "metadata": {},
   "source": [
    "K Means Based BreakFast Food"
   ]
  },
  {
   "cell_type": "code",
   "execution_count": 15,
   "metadata": {},
   "outputs": [],
   "source": [
    "Data_calorie=Breakfast_food_separated_ID_data[1:,1:len(Breakfast_food_separated_ID_data)]\n",
    "X = np.array(Data_calorie);\n",
    "kmeans = KMeans(n_clusters=3, random_state=0).fit(X)\n",
    "X_Value=np.arange(0,len(kmeans.labels_))\n",
    "bf_lbl=kmeans.labels_"
   ]
  },
  {
   "cell_type": "markdown",
   "metadata": {},
   "source": [
    "Reading of the Dataset"
   ]
  },
  {
   "cell_type": "code",
   "execution_count": 21,
   "metadata": {},
   "outputs": [
    {
     "data": {
      "text/plain": [
       "array([[0., 0., 0., 0., 0., 0.],\n",
       "       [0., 0., 0., 0., 0., 0.],\n",
       "       [0., 0., 0., 0., 0., 0.],\n",
       "       ...,\n",
       "       [0., 0., 0., 0., 0., 0.],\n",
       "       [0., 0., 0., 0., 0., 0.],\n",
       "       [0., 0., 0., 0., 0., 0.]], dtype=float32)"
      ]
     },
     "execution_count": 21,
     "metadata": {},
     "output_type": "execute_result"
    }
   ],
   "source": [
    "datafin=pd.read_csv('inputfin.csv')\n",
    "\n",
    "\n",
    "np.zeros((len(datafin.T.iloc[[0,1,2,3,4,7,9,10]].T)*5,6),dtype=np.float32)\n"
   ]
  }
 ],
 "metadata": {
  "kernelspec": {
   "display_name": "Python 3",
   "language": "python",
   "name": "python3"
  },
  "language_info": {
   "codemirror_mode": {
    "name": "ipython",
    "version": 3
   },
   "file_extension": ".py",
   "mimetype": "text/x-python",
   "name": "python",
   "nbconvert_exporter": "python",
   "pygments_lexer": "ipython3",
   "version": "3.10.0"
  }
 },
 "nbformat": 4,
 "nbformat_minor": 2
}
